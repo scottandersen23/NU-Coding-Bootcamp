{
 "cells": [
  {
   "cell_type": "markdown",
   "metadata": {},
   "source": [
    "Problem is caused by folder names in Windows (use of backslash instead of slash)"
   ]
  },
  {
   "cell_type": "code",
   "execution_count": 32,
   "metadata": {},
   "outputs": [],
   "source": [
    "# Possible Solutions:\n",
    "### 1) Convert manually to Slash\n",
    "absolute_filepath = Path(\"C:/Users/makyol/Downloads/fb_nasdaq.csv\")\n",
    "\n",
    "### 2) Convert manually to Double BackSlash\n",
    "absolute_filepath = Path('C:\\\\Users\\\\makyol\\\\Downloads\\\\fb_nasdaq.csv')\n",
    "\n",
    "### 3) Insert r before the folder name\n",
    "absolute_filepath = Path(r'C:\\Users\\makyol\\Downloads\\fb_nasdaq.csv')"
   ]
  }
 ],
 "metadata": {
  "kernelspec": {
   "display_name": "Python 3",
   "language": "python",
   "name": "python3"
  },
  "language_info": {
   "codemirror_mode": {
    "name": "ipython",
    "version": 3
   },
   "file_extension": ".py",
   "mimetype": "text/x-python",
   "name": "python",
   "nbconvert_exporter": "python",
   "pygments_lexer": "ipython3",
   "version": "3.7.6"
  }
 },
 "nbformat": 4,
 "nbformat_minor": 4
}
